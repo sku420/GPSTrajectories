{
 "cells": [
  {
   "cell_type": "code",
   "execution_count": 1,
   "metadata": {},
   "outputs": [],
   "source": [
    "from sklearn import svm\n",
    "from sklearn.model_selection import train_test_split as tts\n",
    "import pandas as pd\n",
    "import numpy as np"
   ]
  },
  {
   "cell_type": "code",
   "execution_count": 2,
   "metadata": {},
   "outputs": [
    {
     "data": {
      "text/html": [
       "<div>\n",
       "<style scoped>\n",
       "    .dataframe tbody tr th:only-of-type {\n",
       "        vertical-align: middle;\n",
       "    }\n",
       "\n",
       "    .dataframe tbody tr th {\n",
       "        vertical-align: top;\n",
       "    }\n",
       "\n",
       "    .dataframe thead th {\n",
       "        text-align: right;\n",
       "    }\n",
       "</style>\n",
       "<table border=\"1\" class=\"dataframe\">\n",
       "  <thead>\n",
       "    <tr style=\"text-align: right;\">\n",
       "      <th></th>\n",
       "      <th>id_android</th>\n",
       "      <th>speed</th>\n",
       "      <th>time</th>\n",
       "      <th>distance</th>\n",
       "      <th>rating</th>\n",
       "      <th>rating_bus</th>\n",
       "      <th>rating_weather</th>\n",
       "      <th>car_or_bus</th>\n",
       "    </tr>\n",
       "  </thead>\n",
       "  <tbody>\n",
       "    <tr>\n",
       "      <th>0</th>\n",
       "      <td>0</td>\n",
       "      <td>19.210586</td>\n",
       "      <td>0.138049</td>\n",
       "      <td>2.652</td>\n",
       "      <td>3</td>\n",
       "      <td>0</td>\n",
       "      <td>0</td>\n",
       "      <td>1</td>\n",
       "    </tr>\n",
       "    <tr>\n",
       "      <th>1</th>\n",
       "      <td>0</td>\n",
       "      <td>30.848229</td>\n",
       "      <td>0.171485</td>\n",
       "      <td>5.290</td>\n",
       "      <td>3</td>\n",
       "      <td>0</td>\n",
       "      <td>0</td>\n",
       "      <td>1</td>\n",
       "    </tr>\n",
       "    <tr>\n",
       "      <th>2</th>\n",
       "      <td>1</td>\n",
       "      <td>13.560101</td>\n",
       "      <td>0.067699</td>\n",
       "      <td>0.918</td>\n",
       "      <td>3</td>\n",
       "      <td>0</td>\n",
       "      <td>0</td>\n",
       "      <td>2</td>\n",
       "    </tr>\n",
       "    <tr>\n",
       "      <th>3</th>\n",
       "      <td>1</td>\n",
       "      <td>19.766679</td>\n",
       "      <td>0.389544</td>\n",
       "      <td>7.700</td>\n",
       "      <td>3</td>\n",
       "      <td>0</td>\n",
       "      <td>0</td>\n",
       "      <td>2</td>\n",
       "    </tr>\n",
       "    <tr>\n",
       "      <th>4</th>\n",
       "      <td>0</td>\n",
       "      <td>25.807401</td>\n",
       "      <td>0.154801</td>\n",
       "      <td>3.995</td>\n",
       "      <td>2</td>\n",
       "      <td>0</td>\n",
       "      <td>0</td>\n",
       "      <td>1</td>\n",
       "    </tr>\n",
       "  </tbody>\n",
       "</table>\n",
       "</div>"
      ],
      "text/plain": [
       "   id_android      speed      time  distance  rating  rating_bus  \\\n",
       "0           0  19.210586  0.138049     2.652       3           0   \n",
       "1           0  30.848229  0.171485     5.290       3           0   \n",
       "2           1  13.560101  0.067699     0.918       3           0   \n",
       "3           1  19.766679  0.389544     7.700       3           0   \n",
       "4           0  25.807401  0.154801     3.995       2           0   \n",
       "\n",
       "   rating_weather  car_or_bus  \n",
       "0               0           1  \n",
       "1               0           1  \n",
       "2               0           2  \n",
       "3               0           2  \n",
       "4               0           1  "
      ]
     },
     "execution_count": 2,
     "metadata": {},
     "output_type": "execute_result"
    }
   ],
   "source": [
    "data=pd.read_csv(\"go_track_tracks.csv\")\n",
    "del data['linha']\n",
    "del data['id']\n",
    "data.head()"
   ]
  },
  {
   "cell_type": "code",
   "execution_count": 3,
   "metadata": {},
   "outputs": [],
   "source": [
    "x=data.iloc[:,0:6]\n",
    "y=data.iloc[:,7]"
   ]
  },
  {
   "cell_type": "code",
   "execution_count": 10,
   "metadata": {},
   "outputs": [],
   "source": [
    "clf=svm.SVC(kernel='linear',C=1.0)\n",
    "rbf_clf=svm.SVC(kernel='rbf',C=1.0,gamma='auto')\n",
    "x_train,x_test,y_train,y_test=tts(x,y,test_size=0.2,random_state=0);"
   ]
  },
  {
   "cell_type": "code",
   "execution_count": 11,
   "metadata": {},
   "outputs": [
    {
     "data": {
      "text/plain": [
       "SVC(C=1.0, cache_size=200, class_weight=None, coef0=0.0,\n",
       "  decision_function_shape='ovr', degree=3, gamma='auto', kernel='rbf',\n",
       "  max_iter=-1, probability=False, random_state=None, shrinking=True,\n",
       "  tol=0.001, verbose=False)"
      ]
     },
     "execution_count": 11,
     "metadata": {},
     "output_type": "execute_result"
    }
   ],
   "source": [
    "clf.fit(x_train,y_train)\n",
    "rbf_clf.fit(x_train,y_train)"
   ]
  },
  {
   "cell_type": "code",
   "execution_count": 12,
   "metadata": {},
   "outputs": [],
   "source": [
    "y_pred=clf.predict(x_test)\n",
    "y_pred_rbf=clf.predict(x_test)"
   ]
  },
  {
   "cell_type": "code",
   "execution_count": 13,
   "metadata": {},
   "outputs": [],
   "source": [
    "score=clf.score(x_test,y_test)\n",
    "score_rbf=rbf_clf.score(x_test,y_test)"
   ]
  },
  {
   "cell_type": "code",
   "execution_count": 14,
   "metadata": {},
   "outputs": [
    {
     "name": "stdout",
     "output_type": "stream",
     "text": [
      "LINEAR:  0.8181818181818182\n",
      "RBF:  0.7272727272727273\n"
     ]
    }
   ],
   "source": [
    "print(\"LINEAR: \",score)\n",
    "print(\"RBF: \",score_rbf)"
   ]
  },
  {
   "cell_type": "code",
   "execution_count": 15,
   "metadata": {},
   "outputs": [
    {
     "name": "stdout",
     "output_type": "stream",
     "text": [
      "[1.0, 1.1, 1.2000000000000002, 1.3000000000000003, 1.4000000000000004, 1.5000000000000004, 1.6000000000000005, 1.7000000000000006, 1.8000000000000007, 1.9000000000000008, 2.000000000000001, 2.100000000000001, 2.200000000000001, 2.300000000000001, 2.4000000000000012, 2.5000000000000013, 2.6000000000000014, 2.7000000000000015, 2.8000000000000016, 2.9000000000000017, 3.0000000000000018, 3.100000000000002, 3.200000000000002, 3.300000000000002, 3.400000000000002, 3.500000000000002, 3.6000000000000023, 3.7000000000000024, 3.8000000000000025, 3.9000000000000026, 4.000000000000003, 4.100000000000003, 4.200000000000003, 4.3000000000000025, 4.400000000000003, 4.5000000000000036, 4.600000000000003, 4.700000000000003, 4.800000000000003, 4.900000000000004, 5.0000000000000036, 5.100000000000003, 5.200000000000004, 5.300000000000004, 5.400000000000004, 5.5000000000000036, 5.600000000000004, 5.700000000000005, 5.800000000000004, 5.900000000000004, 6.000000000000004, 6.100000000000005, 6.200000000000005, 6.300000000000004, 6.400000000000005, 6.500000000000005, 6.600000000000005, 6.700000000000005, 6.800000000000005, 6.900000000000006, 7.000000000000005, 7.100000000000005, 7.2000000000000055, 7.300000000000006, 7.400000000000006, 7.500000000000005, 7.600000000000006, 7.700000000000006, 7.800000000000006, 7.900000000000006, 8.000000000000007, 8.100000000000007, 8.200000000000006, 8.300000000000006, 8.400000000000006, 8.500000000000007, 8.600000000000007, 8.700000000000006, 8.800000000000008, 8.900000000000007, 9.000000000000007, 9.100000000000007, 9.200000000000006, 9.300000000000008, 9.400000000000007, 9.500000000000007, 9.600000000000009, 9.700000000000008, 9.800000000000008, 9.900000000000007, 10.000000000000007, 10.100000000000009, 10.200000000000008, 10.300000000000008, 10.40000000000001, 10.500000000000009, 10.600000000000009, 10.700000000000008, 10.800000000000008, 10.90000000000001]\n"
     ]
    }
   ],
   "source": [
    "scr=0.0\n",
    "scr2=0.0\n",
    "c1,c2=0,0\n",
    "c=np.arange( 1, 10+1,0.1).tolist()\n",
    "print(c)"
   ]
  },
  {
   "cell_type": "code",
   "execution_count": 16,
   "metadata": {},
   "outputs": [],
   "source": [
    "for i in c:\n",
    "    clf=svm.SVC(kernel='linear',C=i)\n",
    "    rbf_clf=svm.SVC(kernel='rbf',C=i,gamma='auto')\n",
    "\n",
    "    clf.fit(x_train,y_train)\n",
    "    rbf_clf.fit(x_train,y_train)\n",
    "\n",
    "    y_pred=clf.predict(x_test)\n",
    "    y_pred_rbf=clf.predict(x_test)\n",
    "\n",
    "    score=clf.score(x_test,y_test)\n",
    "    score_rbf=rbf_clf.score(x_test,y_test)\n",
    "    \n",
    "    if scr<score:\n",
    "        scr=score\n",
    "        c1=i\n",
    "    if scr2<score_rbf:\n",
    "        scr2=score_rbf\n",
    "        c2=i"
   ]
  },
  {
   "cell_type": "code",
   "execution_count": 18,
   "metadata": {},
   "outputs": [
    {
     "name": "stdout",
     "output_type": "stream",
     "text": [
      "BEST C for linear:  1.5000000000000004 SCORE:  0.8787878787878788\n",
      "BEST C for rbf:  1.0 SCORE:  0.7272727272727273\n"
     ]
    }
   ],
   "source": [
    "print(\"BEST C for linear: \",c1,\"SCORE: \", scr)\n",
    "print(\"BEST C for rbf: \", c2,\"SCORE: \", scr2)"
   ]
  },
  {
   "cell_type": "code",
   "execution_count": 19,
   "metadata": {},
   "outputs": [
    {
     "data": {
      "text/plain": [
       "(array([2, 2, 1, 1, 2, 2, 1, 2, 1, 1, 1, 2, 1, 2, 1, 2, 1, 1, 2, 2, 2, 1,\n",
       "        2, 1, 2, 1, 1, 2, 1, 2, 1, 2, 1], dtype=int64), 160    2\n",
       " 149    2\n",
       " 73     1\n",
       " 7      2\n",
       " 100    2\n",
       " 54     2\n",
       " 125    1\n",
       " 44     1\n",
       " 26     1\n",
       " 90     1\n",
       " 136    1\n",
       " 94     2\n",
       " 131    1\n",
       " 80     2\n",
       " 62     1\n",
       " 119    2\n",
       " 37     1\n",
       " 154    1\n",
       " 101    2\n",
       " 142    2\n",
       " 51     2\n",
       " 138    1\n",
       " 33     1\n",
       " 45     1\n",
       " 146    2\n",
       " 8      2\n",
       " 150    1\n",
       " 89     2\n",
       " 92     1\n",
       " 124    2\n",
       " 63     1\n",
       " 55     2\n",
       " 93     1\n",
       " Name: car_or_bus, dtype: int64)"
      ]
     },
     "execution_count": 19,
     "metadata": {},
     "output_type": "execute_result"
    }
   ],
   "source": [
    "y_pred,y_test"
   ]
  },
  {
   "cell_type": "code",
   "execution_count": 20,
   "metadata": {},
   "outputs": [
    {
     "data": {
      "text/plain": [
       "(array([2, 2, 1, 1, 2, 2, 1, 2, 1, 1, 1, 2, 1, 2, 1, 2, 1, 1, 2, 2, 2, 1,\n",
       "        2, 1, 2, 1, 1, 2, 1, 2, 1, 2, 1], dtype=int64), 160    2\n",
       " 149    2\n",
       " 73     1\n",
       " 7      2\n",
       " 100    2\n",
       " 54     2\n",
       " 125    1\n",
       " 44     1\n",
       " 26     1\n",
       " 90     1\n",
       " 136    1\n",
       " 94     2\n",
       " 131    1\n",
       " 80     2\n",
       " 62     1\n",
       " 119    2\n",
       " 37     1\n",
       " 154    1\n",
       " 101    2\n",
       " 142    2\n",
       " 51     2\n",
       " 138    1\n",
       " 33     1\n",
       " 45     1\n",
       " 146    2\n",
       " 8      2\n",
       " 150    1\n",
       " 89     2\n",
       " 92     1\n",
       " 124    2\n",
       " 63     1\n",
       " 55     2\n",
       " 93     1\n",
       " Name: car_or_bus, dtype: int64)"
      ]
     },
     "execution_count": 20,
     "metadata": {},
     "output_type": "execute_result"
    }
   ],
   "source": [
    "y_pred_rbf,y_test"
   ]
  }
 ],
 "metadata": {
  "kernelspec": {
   "display_name": "Python 3",
   "language": "python",
   "name": "python3"
  },
  "language_info": {
   "codemirror_mode": {
    "name": "ipython",
    "version": 3
   },
   "file_extension": ".py",
   "mimetype": "text/x-python",
   "name": "python",
   "nbconvert_exporter": "python",
   "pygments_lexer": "ipython3",
   "version": "3.7.1"
  }
 },
 "nbformat": 4,
 "nbformat_minor": 2
}
